{
 "cells": [
  {
   "cell_type": "code",
   "execution_count": 1,
   "id": "a981e217",
   "metadata": {},
   "outputs": [],
   "source": [
    "# Importing necessary libraries\n",
    "import pandas as pd\n",
    "import numpy as np\n",
    "import matplotlib.pyplot as plt\n",
    "import seaborn as sns\n",
    "sns.set(font_scale=1.35)\n",
    "\n",
    "from sklearn.preprocessing import StandardScaler\n",
    "from sklearn.neighbors import KNeighborsRegressor, KNeighborsClassifier\n",
    "from sklearn.metrics import mean_squared_error\n",
    "from sklearn.model_selection import cross_val_score, GridSearchCV, cross_val_predict\n",
    "from sklearn.model_selection import KFold, StratifiedKFold, RepeatedKFold, RepeatedStratifiedKFold\n"
   ]
  },
  {
   "cell_type": "code",
   "execution_count": 2,
   "id": "b563e105",
   "metadata": {},
   "outputs": [],
   "source": [
    "data_train = pd.read_csv('train_regression.csv')"
   ]
  },
  {
   "cell_type": "code",
   "execution_count": 3,
   "id": "b350aaed",
   "metadata": {},
   "outputs": [
    {
     "name": "stderr",
     "output_type": "stream",
     "text": [
      "C:\\Users\\julia\\AppData\\Local\\Temp\\ipykernel_7076\\280095051.py:2: FutureWarning: The default value of regex will change from True to False in a future version. In addition, single character regular expressions will *not* be treated as literal strings when regex=True.\n",
      "  data_train.price = data_train.price.str.replace('$', '').str.replace(',','').astype(float)\n"
     ]
    }
   ],
   "source": [
    "# Clean and convert price\n",
    "data_train.price = data_train.price.str.replace('$', '').str.replace(',','').astype(float)\n",
    "\n",
    "# get rid of unrealistic value\n",
    "data_train = data_train[data_train.price < 10000]"
   ]
  },
  {
   "cell_type": "code",
   "execution_count": 4,
   "id": "fae52cea",
   "metadata": {},
   "outputs": [],
   "source": [
    "# Response rate\n",
    "data_train.host_response_rate = data_train.host_response_rate.str.replace('%','').astype(float)\n",
    "\n",
    "# Host acceptance rate\n",
    "data_train.host_acceptance_rate = data_train.host_acceptance_rate.str.replace('%','').astype(float)"
   ]
  },
  {
   "cell_type": "code",
   "execution_count": 5,
   "id": "974c557a",
   "metadata": {},
   "outputs": [
    {
     "name": "stderr",
     "output_type": "stream",
     "text": [
      "C:\\Users\\julia\\AppData\\Local\\Temp\\ipykernel_7076\\2115613911.py:3: FutureWarning: The default value of numeric_only in DataFrame.median is deprecated. In a future version, it will default to False. In addition, specifying 'numeric_only=None' is deprecated. Select only valid columns or specify the value of numeric_only to silence this warning.\n",
      "  data_train = data_train.fillna(data_train.median())\n"
     ]
    }
   ],
   "source": [
    "# Imputing numeric\n",
    "\n",
    "data_train = data_train.fillna(data_train.median())"
   ]
  },
  {
   "cell_type": "code",
   "execution_count": 6,
   "id": "3a2b8ac9",
   "metadata": {},
   "outputs": [
    {
     "name": "stderr",
     "output_type": "stream",
     "text": [
      "C:\\Users\\julia\\AppData\\Local\\Temp\\ipykernel_7076\\2695995643.py:5: FutureWarning: The default value of numeric_only in DataFrame.median is deprecated. In a future version, it will default to False. In addition, specifying 'numeric_only=None' is deprecated. Select only valid columns or specify the value of numeric_only to silence this warning.\n",
      "  data_test = data_test.fillna(data_train.median())\n"
     ]
    }
   ],
   "source": [
    "# apply everythingnto the test data\n",
    "data_test = pd.read_csv('test_regression.csv')\n",
    "data_test.host_response_rate = data_test.host_response_rate.str.replace('%','').astype(float)\n",
    "data_test.host_acceptance_rate = data_test.host_acceptance_rate.str.replace('%','').astype(float)\n",
    "data_test = data_test.fillna(data_train.median())"
   ]
  },
  {
   "cell_type": "code",
   "execution_count": 7,
   "id": "be6f23da",
   "metadata": {},
   "outputs": [],
   "source": [
    "# Host Total Listings Count\n",
    "data_train['host_total_listings_count'] = data_train['host_total_listings_count'].apply(lambda count: 1 if count <= 7 else 0)\n",
    "data_test['host_total_listings_count'] = data_test['host_total_listings_count'].apply(lambda count: 1 if count <= 7 else 0)\n",
    "\n",
    "# Host Response Time\n",
    "data_train['host_response_time'] = data_train['host_response_time'].apply(lambda time: 1 if time in ['within an hour', 'within a few hours'] else 0)\n",
    "data_test['host_response_time'] = data_test['host_response_time'].apply(lambda time: 1 if time in ['within an hour', 'within a few hours'] else 0)\n",
    "\n",
    "# Room Type\n",
    "data_train['room_type'] = data_train['room_type'].apply(lambda room: 1 if room in ['Private room', 'Entire home/apt', 'Hotel room'] else 0)\n",
    "data_test['room_type'] = data_test['room_type'].apply(lambda room: 1 if room in ['Private room', 'Entire home/apt', 'Hotel room'] else 0)\n",
    "\n",
    "# Property Type\n",
    "data_train['property_type'] = data_train['property_type'].apply(lambda location: 1 if location in ['Shared room in home', 'Shared room in bungalow', 'Shared room in hostel', 'Shared room in rental unit', 'Shared room in condo'] else 0)\n",
    "data_test['property_type'] = data_test['property_type'].apply(lambda location: 1 if location in ['Shared room in home', 'Shared room in bungalow', 'Shared room in hostel', 'Shared room in rental unit', 'Shared room in condo'] else 0)\n",
    "\n",
    "# Host Neighbourhood\n",
    "data_train['host_neighbourhood'] = data_train['host_neighbourhood'].apply(lambda neighborhood: 1 if neighborhood in ['Lakeview', 'Mount Greenwood', 'Gold Coast', 'Chicago Loop', 'Edison Park'] else 0)\n",
    "data_test['host_neighbourhood'] = data_test['host_neighbourhood'].apply(lambda neighborhood: 1 if neighborhood in ['Lakeview', 'Mount Greenwood', 'Gold Coast', 'Chicago Loop', 'Edison Park'] else 0)\n",
    "\n",
    "# Bathrooms Text\n",
    "data_train['bathrooms_text'] = data_train['bathrooms_text'].str.extract(r'(\\d+)').astype(float)\n",
    "data_test['bathrooms_text'] = data_test['bathrooms_text'].str.extract(r'(\\d+)').astype(float)\n",
    "data_train['bathrooms_text'] = data_train['bathrooms_text'].fillna(data_train['bathrooms_text'].median())\n",
    "data_test['bathrooms_text'] = data_test['bathrooms_text'].fillna(data_test['bathrooms_text'].median())\n"
   ]
  },
  {
   "cell_type": "code",
   "execution_count": 8,
   "id": "a4d1619d",
   "metadata": {},
   "outputs": [],
   "source": [
    "# Convert float values to string\n",
    "data_train['host_location'] = data_train['host_location'].astype(str)\n",
    "data_test['host_location'] = data_test['host_location'].astype(str)\n",
    "\n",
    "# City list\n",
    "city_list = ['Chicago, IL', 'Lakeview', 'Mount Greenwood', 'Gold Coast', 'Chicago Loop', 'Edison Park']\n",
    "\n",
    "# Map locations to 'West' (1), 'East' (0), and NaN (0)\n",
    "data_train['host_location'] = data_train['host_location'].apply(lambda location: 1 if any(city in location for city in city_list) else (0 if location == 'nan' else 0))\n",
    "data_test['host_location'] = data_test['host_location'].apply(lambda location: 1 if any(city in location for city in city_list) else (0 if location == 'nan' else 0))\n",
    "\n",
    "# Map 't' to 1 and 'f' to 0 for binary columns\n",
    "data_train['host_is_superhost'] = data_train['host_is_superhost'].map({'t': 1, 'f': 0})\n",
    "data_test['host_is_superhost'] = data_test['host_is_superhost'].map({'t': 1, 'f': 0})\n",
    "\n",
    "data_train['host_has_profile_pic'] = data_train['host_has_profile_pic'].map({'t': 1, 'f': 0})\n",
    "data_test['host_has_profile_pic'] = data_test['host_has_profile_pic'].map({'t': 1, 'f': 0})\n",
    "\n",
    "data_train['host_identity_verified'] = data_train['host_identity_verified'].map({'t': 1, 'f': 0})\n",
    "data_test['host_identity_verified'] = data_test['host_identity_verified'].map({'t': 1, 'f': 0})\n",
    "\n",
    "data_train['has_availability'] = data_train['has_availability'].map({'t': 1, 'f': 0})\n",
    "data_test['has_availability'] = data_test['has_availability'].map({'t': 1, 'f': 0})\n",
    "\n",
    "data_train['instant_bookable'] = data_train['instant_bookable'].map({'t': 1, 'f': 0})\n",
    "data_test['instant_bookable'] = data_test['instant_bookable'].map({'t': 1, 'f': 0})\n",
    "\n",
    "# Extract email or phone verification from host_verifications\n",
    "data_train['host_verifications'] = data_train['host_verifications'].apply(lambda verifications: 1 if 'email' in verifications or 'phone' in verifications else 0)\n",
    "data_test['host_verifications'] = data_test['host_verifications'].apply(lambda verifications: 1 if 'email' in verifications or 'phone' in verifications else 0)\n",
    "\n",
    "# Map selected neighborhoods to 1 and others to 0\n",
    "neighborhoods_to_map_to_1 = ['Lake View', 'Lincoln Park', 'Near North Side', 'West Town', 'Logan Square']\n",
    "data_train['neighbourhood_cleansed'] = data_train['neighbourhood_cleansed'].apply(lambda neighborhood: 1 if neighborhood in neighborhoods_to_map_to_1 else 0)\n",
    "data_test['neighbourhood_cleansed'] = data_test['neighbourhood_cleansed'].apply(lambda neighborhood: 1 if neighborhood in neighborhoods_to_map_to_1 else 0)\n",
    "\n",
    "# Drop specified columns\n",
    "columns_to_exclude = ['host_id', 'host_since', 'first_review', 'last_review']\n",
    "data_train = data_train.drop(columns=columns_to_exclude, errors='ignore')\n",
    "data_test = data_test.drop(columns=columns_to_exclude, errors='ignore')\n"
   ]
  },
  {
   "cell_type": "code",
   "execution_count": 9,
   "id": "861dc371",
   "metadata": {},
   "outputs": [],
   "source": [
    "data_train = data_train.fillna(data_train.median())\n",
    "data_test = data_test.fillna(data_test.median())"
   ]
  },
  {
   "cell_type": "code",
   "execution_count": 10,
   "id": "fe636959",
   "metadata": {},
   "outputs": [],
   "source": [
    "X_train = data_train.drop(columns='price')\n",
    "y_train = data_train['price']\n",
    "\n",
    "X_test = data_test"
   ]
  },
  {
   "cell_type": "code",
   "execution_count": 11,
   "id": "c5349885",
   "metadata": {},
   "outputs": [],
   "source": [
    "# Scale\n",
    "sc = StandardScaler()\n",
    "\n",
    "sc.fit(X_train)\n",
    "X_train_scaled = sc.transform(X_train)\n",
    "X_test_scaled = sc.transform(X_test)"
   ]
  },
  {
   "cell_type": "code",
   "execution_count": 12,
   "id": "68999d87",
   "metadata": {},
   "outputs": [],
   "source": [
    "cv_settings = RepeatedKFold(n_splits=5, n_repeats=10, random_state=12)\n",
    "\n",
    "model = KNeighborsRegressor()\n",
    "grid = {'n_neighbors':np.arange(75,85), 'weights':['uniform', 'distance']}\n",
    "gscv = GridSearchCV(model, grid, cv=cv_settings, scoring = 'neg_root_mean_squared_error', n_jobs = -1)"
   ]
  },
  {
   "cell_type": "code",
   "execution_count": 15,
   "id": "68f16466",
   "metadata": {},
   "outputs": [
    {
     "name": "stdout",
     "output_type": "stream",
     "text": [
      "Best parameters: {'n_neighbors': 79, 'weights': 'distance'}\n"
     ]
    }
   ],
   "source": [
    "# DECISION TREE\n",
    "from sklearn.tree import DecisionTreeRegressor\n",
    "\n",
    "# Train Decision Tree model\n",
    "dt_model = DecisionTreeRegressor(random_state=12)  \n",
    "dt_model.fit(X_train_scaled, y_train)\n",
    "\n",
    "# Get feature importances\n",
    "importances = dt_model.feature_importances_\n",
    "\n",
    "# Select features with non-zero importances\n",
    "non_zero_indices = np.where(importances > 0.05)[0]\n",
    "X_train_selected = X_train_scaled[:, non_zero_indices]\n",
    "X_test_selected = X_test_scaled[:, non_zero_indices]\n",
    "\n",
    "# Perform grid search on the selected features\n",
    "gscv.fit(X_train_selected, y_train)\n",
    "\n",
    "print(\"Best parameters:\", gscv.best_params_)\n"
   ]
  },
  {
   "cell_type": "code",
   "execution_count": 17,
   "id": "1e6793f3",
   "metadata": {},
   "outputs": [],
   "source": [
    "# Make predictions on the selected test data\n",
    "preds = gscv.predict(X_test_selected)\n",
    "\n",
    "# Create a DataFrame with predictions and save it to a CSV file\n",
    "output = pd.DataFrame({'id': data_test.id, 'predicted': preds})\n",
    "output.to_csv('knn_regression_submission.csv', index=False)"
   ]
  }
 ],
 "metadata": {
  "kernelspec": {
   "display_name": "Python 3 (ipykernel)",
   "language": "python",
   "name": "python3"
  },
  "language_info": {
   "codemirror_mode": {
    "name": "ipython",
    "version": 3
   },
   "file_extension": ".py",
   "mimetype": "text/x-python",
   "name": "python",
   "nbconvert_exporter": "python",
   "pygments_lexer": "ipython3",
   "version": "3.11.4"
  }
 },
 "nbformat": 4,
 "nbformat_minor": 5
}
