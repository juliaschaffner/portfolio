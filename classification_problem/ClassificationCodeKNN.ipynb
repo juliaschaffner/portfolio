{
 "cells": [
  {
   "cell_type": "markdown",
   "id": "b55a2bf1-a991-4831-9e57-42f7aa304bd7",
   "metadata": {},
   "source": [
    "## Prediction Problem Code Template"
   ]
  },
  {
   "cell_type": "markdown",
   "id": "0484d5ee-0a3e-4f46-a781-bea66f36939f",
   "metadata": {},
   "source": [
    "**Problem:** Classification"
   ]
  },
  {
   "cell_type": "markdown",
   "id": "a52e32b3-d20d-4008-89a0-49071ecf609e",
   "metadata": {},
   "source": [
    "**Model:** KNN"
   ]
  },
  {
   "cell_type": "markdown",
   "id": "3323bb93-525e-42f1-b1c6-3ce0aeec37d3",
   "metadata": {},
   "source": [
    "**Group Members:** Julia Schaffner, Varun Popli"
   ]
  },
  {
   "cell_type": "markdown",
   "id": "eb1d232b-a629-4426-a0f4-4364a01e87a9",
   "metadata": {},
   "source": [
    "**Performance on Kaggle:** 0.82490"
   ]
  },
  {
   "cell_type": "markdown",
   "id": "6fa59f87-7c55-4db1-b222-16ea7c27ae01",
   "metadata": {},
   "source": [
    "### Libraries"
   ]
  },
  {
   "cell_type": "code",
   "execution_count": 1,
   "id": "a0d8bb67-93fa-46e1-a896-3ee66577b3f5",
   "metadata": {},
   "outputs": [],
   "source": [
    "import pandas as pd\n",
    "import numpy as np\n",
    "import matplotlib.pyplot as plt\n",
    "import seaborn as sns\n",
    "sns.set(font_scale=1.35)\n",
    "\n",
    "from sklearn.preprocessing import StandardScaler\n",
    "from sklearn.neighbors import KNeighborsRegressor, KNeighborsClassifier\n",
    "from sklearn.metrics import mean_squared_error, accuracy_score\n",
    "from sklearn.model_selection import cross_val_score, GridSearchCV, cross_val_predict\n",
    "from sklearn.model_selection import KFold, StratifiedKFold, RepeatedKFold, RepeatedStratifiedKFold"
   ]
  },
  {
   "cell_type": "markdown",
   "id": "ffcb441c-6811-48ef-b3bb-4c9b0b85962b",
   "metadata": {},
   "source": [
    "### Data and Preprocessing"
   ]
  },
  {
   "cell_type": "code",
   "execution_count": 2,
   "id": "7ef7730c-99b0-44c6-bb2d-002b57143f42",
   "metadata": {},
   "outputs": [
    {
     "name": "stderr",
     "output_type": "stream",
     "text": [
      "C:\\Users\\julia\\AppData\\Local\\Temp\\ipykernel_18440\\2538260239.py:10: FutureWarning: The default value of numeric_only in DataFrame.median is deprecated. In a future version, it will default to False. In addition, specifying 'numeric_only=None' is deprecated. Select only valid columns or specify the value of numeric_only to silence this warning.\n",
      "  data_train = data_train.fillna(data_train.median())\n",
      "C:\\Users\\julia\\AppData\\Local\\Temp\\ipykernel_18440\\2538260239.py:16: FutureWarning: The default value of numeric_only in DataFrame.median is deprecated. In a future version, it will default to False. In addition, specifying 'numeric_only=None' is deprecated. Select only valid columns or specify the value of numeric_only to silence this warning.\n",
      "  data_test = data_test.fillna(data_test.median())\n"
     ]
    }
   ],
   "source": [
    "data_train = pd.read_csv('train_classification.csv')\n",
    "\n",
    "# Response rate\n",
    "data_train.host_response_rate = data_train.host_response_rate.str.replace('%','').astype(float)\n",
    "\n",
    "# Host acceptance rate\n",
    "data_train.host_acceptance_rate = data_train.host_acceptance_rate.str.replace('%','').astype(float)\n",
    "\n",
    "# Imputing numeric\n",
    "data_train = data_train.fillna(data_train.median())\n",
    "\n",
    "# apply everythingnto the test data\n",
    "data_test = pd.read_csv('test_classification.csv')\n",
    "data_test.host_response_rate = data_test.host_response_rate.str.replace('%','').astype(float)\n",
    "data_test.host_acceptance_rate = data_test.host_acceptance_rate.str.replace('%','').astype(float)\n",
    "data_test = data_test.fillna(data_test.median())\n",
    "\n",
    "data_train['host_is_superhost'] = data_train['host_is_superhost'].replace({'t': 1, 'f': 0})\n",
    "\n",
    "data_train['host_response_time'] = data_train['host_response_time'].apply(lambda time: 1 if time == 'within an hour' or time == 'within a few hours' else 0)\n",
    "data_test['host_response_time'] = data_test['host_response_time'].apply(lambda time: 1 if time == 'within an hour' or time == 'within a few hours' else 0)\n",
    "\n",
    "data_train['room_type'] = data_train['room_type'].apply(lambda room: 1 if room in ['Private room', 'Entire home/apt', 'Hotel room'] else 0)\n",
    "data_test['room_type'] = data_test['room_type'].apply(lambda room: 1 if room in ['Private room', 'Entire home/apt', 'Hotel room'] else 0)\n",
    "\n",
    "data_train['property_type'] = data_train['property_type'].apply(lambda location: 1 if location in ['Shared room in home', 'Shared room in bungalow', 'Shared room in hostel', 'Shared room in rental unit', 'Shared room in condo'] else 0)\n",
    "data_test['property_type'] = data_test['property_type'].apply(lambda location: 1 if location in ['Shared room in home', 'Shared room in bungalow', 'Shared room in hostel', 'Shared room in rental unit', 'Shared room in condo'] else 0)\n",
    "\n",
    "data_train['host_neighbourhood'] = data_train['host_neighbourhood'].apply(lambda neighborhood: 1 if neighborhood in ['Lakeview', 'Mount Greenwood', 'Gold Coast', 'Chicago Loop', 'Edison Park'] else 0)\n",
    "data_test['host_neighbourhood'] = data_test['host_neighbourhood'].apply(lambda neighborhood: 1 if neighborhood in ['Lakeview', 'Mount Greenwood', 'Gold Coast', 'Chicago Loop', 'Edison Park'] else 0)\n",
    "\n",
    "data_train['host_total_listings_count'] = data_train['host_total_listings_count'].apply(lambda count: 1 if count <= 7 else 0)\n",
    "data_test['host_total_listings_count'] = data_test['host_total_listings_count'].apply(lambda count: 1 if count <= 7 else 0)\n",
    "\n",
    "data_train['bathrooms_text'] = data_train['bathrooms_text'].str.extract(r'(\\d+)').astype(float)\n",
    "data_test['bathrooms_text'] = data_test['bathrooms_text'].str.extract(r'(\\d+)').astype(float)\n",
    "data_train['bathrooms_text'] = data_train['bathrooms_text'].fillna(data_train['bathrooms_text'].median())\n",
    "data_test['bathrooms_text'] = data_test['bathrooms_text'].fillna(data_test['bathrooms_text'].median())\n",
    "\n",
    "# Convert float values to string\n",
    "data_train['host_location'] = data_train['host_location'].astype(str)\n",
    "data_test['host_location'] = data_test['host_location'].astype(str)\n",
    "\n",
    "# List of cities to be considered as 'West'\n",
    "west_cities = ['Chicago, IL', 'Lakeview', 'Mount Greenwood', 'Gold Coast', 'Chicago Loop', 'Edison Park']\n",
    "\n",
    "# Map locations to 'West' (1), 'East' (0), and NaN (0)\n",
    "data_train['host_location'] = data_train['host_location'].apply(lambda location: 1 if any(city in location for city in west_cities) else (0 if location == 'nan' else 0))\n",
    "data_test['host_location'] = data_test['host_location'].apply(lambda location: 1 if any(city in location for city in west_cities) else (0 if location == 'nan' else 0))\n",
    "\n",
    "data_train['host_has_profile_pic'] = data_train['host_has_profile_pic'].map({'t': 1, 'f': 0})\n",
    "data_test['host_has_profile_pic'] = data_test['host_has_profile_pic'].map({'t': 1, 'f': 0})\n",
    "\n",
    "data_train['host_identity_verified'] = data_train['host_identity_verified'].map({'t': 1, 'f': 0})\n",
    "data_test['host_identity_verified'] = data_test['host_identity_verified'].map({'t': 1, 'f': 0})\n",
    "\n",
    "data_train['has_availability'] = data_train['has_availability'].map({'t': 1, 'f': 0})\n",
    "data_test['has_availability'] = data_test['has_availability'].map({'t': 1, 'f': 0})\n",
    "\n",
    "data_train['instant_bookable'] = data_train['instant_bookable'].map({'t': 1, 'f': 0})\n",
    "data_test['instant_bookable'] = data_test['instant_bookable'].map({'t': 1, 'f': 0})\n",
    "\n",
    "data_train['host_verifications'] = data_train['host_verifications'].apply(lambda verifications: 1 if 'email' in verifications or 'phone' in verifications else 0)\n",
    "data_test['host_verifications'] = data_test['host_verifications'].apply(lambda verifications: 1 if 'email' in verifications or 'phone' in verifications else 0)\n",
    "\n",
    "neighborhoods_to_map_to_1 = ['Lake View', 'Lincoln Park', 'Near North Side', 'West Town', 'Logan Square']  # Add more neighborhoods as needed\n",
    "\n",
    "data_train['neighbourhood_cleansed'] = data_train['neighbourhood_cleansed'].apply(lambda neighborhood: 1 if neighborhood in neighborhoods_to_map_to_1 else 0)\n",
    "data_test['neighbourhood_cleansed'] = data_test['neighbourhood_cleansed'].apply(lambda neighborhood: 1 if neighborhood in neighborhoods_to_map_to_1 else 0)\n",
    "\n",
    "columns_to_exclude = ['host_id', 'host_since', 'first_review', 'last_review']\n",
    "\n",
    "data_train = data_train.drop(columns=columns_to_exclude, errors='ignore')\n",
    "data_test = data_test.drop(columns=columns_to_exclude, errors='ignore')\n",
    "\n",
    "# impute\n",
    "data_train = data_train.fillna(data_train.median())\n",
    "data_test = data_test.fillna(data_test.median())\n",
    "\n",
    "# predictors and responses\n",
    "\n",
    "X_train = data_train.drop(columns='host_is_superhost')\n",
    "y_train = data_train['host_is_superhost']\n",
    "\n",
    "X_test = data_test\n",
    "\n",
    "# Scale\n",
    "sc = StandardScaler()\n",
    "\n",
    "sc.fit(X_train)\n",
    "X_train_scaled = sc.transform(X_train)\n",
    "X_test_scaled = sc.transform(X_test)"
   ]
  },
  {
   "cell_type": "markdown",
   "id": "9aa0a3a4-93ba-4813-b61a-dd647b2c063c",
   "metadata": {},
   "source": [
    "### Predictor Selection"
   ]
  },
  {
   "cell_type": "code",
   "execution_count": 3,
   "id": "bf79475f-2f09-45a9-874b-5dc2f48ebcfa",
   "metadata": {},
   "outputs": [],
   "source": [
    "# DECISION TREE selection\n",
    "from sklearn.tree import DecisionTreeRegressor\n",
    "\n",
    "# Train Decision Tree model\n",
    "dt_model = DecisionTreeRegressor(random_state=12)  \n",
    "dt_model.fit(X_train_scaled, y_train)\n",
    "\n",
    "# Get feature importances\n",
    "importances = dt_model.feature_importances_\n",
    "\n",
    "# Select features with non-zero importances\n",
    "non_zero_indices = np.where(importances > 0.04)[0]\n",
    "X_train_selected = X_train_scaled[:, non_zero_indices]\n",
    "X_test_selected = X_test_scaled[:, non_zero_indices]"
   ]
  },
  {
   "cell_type": "markdown",
   "id": "69d15423-033a-469f-a3a4-2bc454a27cc1",
   "metadata": {},
   "source": [
    "### Model Tuning and Training"
   ]
  },
  {
   "cell_type": "code",
   "execution_count": 4,
   "id": "48195e41-0de4-4b12-9f8f-2e7bca4ca12f",
   "metadata": {},
   "outputs": [],
   "source": [
    "cv_settings = StratifiedKFold(n_splits= 5, shuffle=True, random_state=12)\n",
    "\n",
    "model = KNeighborsClassifier()\n",
    "grid = {'n_neighbors':np.arange(1,100), 'weights':['uniform', 'distance']}\n",
    "gscv = GridSearchCV(model, grid, cv=cv_settings, scoring = 'accuracy', n_jobs = -1)\n",
    "\n",
    "# Perform grid search on the selected features\n",
    "gscv.fit(X_train_selected, y_train)\n",
    "\n",
    "y_pred_probs = cross_val_predict(gscv.best_estimator_, X_train_selected, y_train, cv = cv_settings, method = 'predict_proba')[:,1]\n",
    "\n",
    "thrs = np.arange(0,1.01,0.001)\n",
    "\n",
    "accs = []\n",
    "\n",
    "for thr in thrs:\n",
    "      accs.append(accuracy_score(y_train, y_pred_probs > thr))\n",
    "        \n",
    "best_thr = thrs[accs.index(max(accs))]"
   ]
  },
  {
   "cell_type": "markdown",
   "id": "e4fca491-c354-4eec-9755-1d17a9daf9c0",
   "metadata": {},
   "source": [
    "### Prediction"
   ]
  },
  {
   "cell_type": "code",
   "execution_count": 5,
   "id": "f4ee40e7-f36c-42fe-82cb-dc6ec08c769d",
   "metadata": {},
   "outputs": [],
   "source": [
    "# Make predictions on the selected test data\n",
    "preds = gscv.predict_proba(X_test_selected)[:,1] > best_thr\n",
    "\n",
    "# Create a DataFrame with predictions and save it to a CSV file\n",
    "output = pd.DataFrame({'id': data_test.id, 'predicted': preds})\n",
    "output.to_csv('knn_classification_submission.csv', index=False)"
   ]
  }
 ],
 "metadata": {
  "kernelspec": {
   "display_name": "Python 3 (ipykernel)",
   "language": "python",
   "name": "python3"
  },
  "language_info": {
   "codemirror_mode": {
    "name": "ipython",
    "version": 3
   },
   "file_extension": ".py",
   "mimetype": "text/x-python",
   "name": "python",
   "nbconvert_exporter": "python",
   "pygments_lexer": "ipython3",
   "version": "3.11.4"
  }
 },
 "nbformat": 4,
 "nbformat_minor": 5
}
